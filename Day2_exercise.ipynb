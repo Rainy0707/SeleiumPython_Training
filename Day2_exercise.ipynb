{
 "cells": [
  {
   "cell_type": "markdown",
   "metadata": {},
   "source": [
    "# 1. remove integers from the string and change the lower case to upper and upper to lower\n",
    "\n",
    "str1 = \"Learn12Test3Automation01\"\n",
    "O/P : \"lEARNtESTaUTOMATION\""
   ]
  },
  {
   "cell_type": "code",
   "execution_count": 11,
   "metadata": {},
   "outputs": [
    {
     "name": "stdout",
     "output_type": "stream",
     "text": [
      "lEARNtESTaUTOMATION"
     ]
    }
   ],
   "source": [
    "str1 = \"Learn12Test3Automation01\"\n",
    "new = ''.join([i for i in str1 if not i.isdigit()])\n",
    "for j in new:\n",
    "    if j.islower():\n",
    "        string = j.upper()\n",
    "    else:\n",
    "        string = j.lower()\n",
    "    print(string, end='')"
   ]
  },
  {
   "cell_type": "markdown",
   "metadata": {},
   "source": [
    "# 2. check if every vowel is present or not. \n",
    "   We consider a vowel to be present if it is present in upper case or lower case. i.e. ‘a’, ‘e’, ‘i’.’o’, ‘u’ or ‘A’, ‘E’, ‘I’, ‘O’, ‘U’ . \n",
    "   \n",
    "   Input : \"Test Automation\"\n",
    "   Output : Accepted\n",
    "   Note: All vowels present\n",
    "   \n",
    "   Input : \"Testing\"\n",
    "   Output : Not Accepted\n",
    "   Note: Only  'e' and 'i' are present"
   ]
  },
  {
   "cell_type": "code",
   "execution_count": 16,
   "metadata": {},
   "outputs": [
    {
     "name": "stdout",
     "output_type": "stream",
     "text": [
      "Not Accepted Note: Not all vowels present\n"
     ]
    }
   ],
   "source": [
    "Input =\"Test Automation\"\n",
    "for i in Input:\n",
    "    if ('a' in i and 'e' in i and 'i' in i and 'o' in i and 'u' in i) or ('A' in i and 'E' in i and 'I' in i and 'O' in i and 'U' in i):\n",
    "        output = \"Accepted Note: All vowels present\"\n",
    "    else:\n",
    "        output = \"Not Accepted Note: Not all vowels present\"\n",
    "print(output)"
   ]
  },
  {
   "cell_type": "code",
   "execution_count": null,
   "metadata": {},
   "outputs": [],
   "source": []
  }
 ],
 "metadata": {
  "kernelspec": {
   "display_name": "Python 3",
   "language": "python",
   "name": "python3"
  },
  "language_info": {
   "codemirror_mode": {
    "name": "ipython",
    "version": 3
   },
   "file_extension": ".py",
   "mimetype": "text/x-python",
   "name": "python",
   "nbconvert_exporter": "python",
   "pygments_lexer": "ipython3",
   "version": "3.7.6"
  }
 },
 "nbformat": 4,
 "nbformat_minor": 4
}
